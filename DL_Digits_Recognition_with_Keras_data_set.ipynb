{
  "nbformat": 4,
  "nbformat_minor": 0,
  "metadata": {
    "colab": {
      "name": "DL Digits Recognition with Keras data set.ipynb",
      "version": "0.3.2",
      "provenance": [],
      "collapsed_sections": [],
      "include_colab_link": true
    },
    "kernelspec": {
      "display_name": "Python 3",
      "language": "python",
      "name": "python3"
    }
  },
  "cells": [
    {
      "cell_type": "markdown",
      "metadata": {
        "id": "view-in-github",
        "colab_type": "text"
      },
      "source": [
        "<a href=\"https://colab.research.google.com/github/MoamenAhmedEl-Nashar/machine-learning-projects/blob/master/DL_Digits_Recognition_with_Keras_data_set.ipynb\" target=\"_parent\"><img src=\"https://colab.research.google.com/assets/colab-badge.svg\" alt=\"Open In Colab\"/></a>"
      ]
    },
    {
      "metadata": {
        "id": "KmitmYfaphbt",
        "colab_type": "text"
      },
      "cell_type": "markdown",
      "source": [
        "# Digits Recognition with Keras data set"
      ]
    },
    {
      "metadata": {
        "id": "Vum1Lfdgphbu",
        "colab_type": "code",
        "colab": {
          "base_uri": "https://localhost:8080/",
          "height": 34
        },
        "outputId": "988a8528-77e0-46fd-cf0b-e1fc99245568"
      },
      "cell_type": "code",
      "source": [
        "import pandas as pd\n",
        "import numpy as np\n",
        "import tensorflow as tf\n",
        "np.random.seed(1)\n",
        "import matplotlib.pyplot as plt\n",
        "plt.style.use('ggplot')\n",
        "from keras import layers\n",
        "from keras.layers import Input, Dense, Activation, ZeroPadding2D, BatchNormalization, Flatten, Conv2D\n",
        "from keras.layers import AveragePooling2D, MaxPooling2D, Dropout, GlobalMaxPooling2D, GlobalAveragePooling2D\n",
        "from keras.models import Model,Sequential\n",
        "from keras.preprocessing import image\n",
        "from keras.utils import layer_utils,to_categorical\n",
        "from keras.utils.data_utils import get_file\n",
        "from keras.applications.imagenet_utils import preprocess_input\n",
        "from keras.datasets import mnist\n",
        "import keras.backend as K\n",
        "K.set_image_data_format('channels_last')"
      ],
      "execution_count": 1,
      "outputs": [
        {
          "output_type": "stream",
          "text": [
            "Using TensorFlow backend.\n"
          ],
          "name": "stderr"
        }
      ]
    },
    {
      "metadata": {
        "id": "hz28LVKMphby",
        "colab_type": "code",
        "colab": {
          "base_uri": "https://localhost:8080/",
          "height": 52
        },
        "outputId": "9dea84ee-46fb-40ba-f225-be41358c4745"
      },
      "cell_type": "code",
      "source": [
        "(x_train, y_train),(x_test, y_test) = mnist.load_data()"
      ],
      "execution_count": 2,
      "outputs": [
        {
          "output_type": "stream",
          "text": [
            "Downloading data from https://s3.amazonaws.com/img-datasets/mnist.npz\n",
            "11493376/11490434 [==============================] - 0s 0us/step\n"
          ],
          "name": "stdout"
        }
      ]
    },
    {
      "metadata": {
        "id": "FyJlIY3mphb5",
        "colab_type": "code",
        "colab": {
          "base_uri": "https://localhost:8080/",
          "height": 121
        },
        "outputId": "a65e65ce-2b1a-4f83-f733-0604eaf6ee25"
      },
      "cell_type": "code",
      "source": [
        "print(x_train.shape)\n",
        "print(y_train.shape)\n",
        "x_train_modified=x_train.reshape(-1,28,28,1)\n",
        "y_train_modified=to_categorical(y_train)\n",
        "x_test_modified=x_test.reshape(-1,28,28,1)\n",
        "y_test_modified=to_categorical(y_test)\n",
        "print(x_train_modified.shape)\n",
        "print(y_train_modified.shape)\n",
        "print(x_test_modified.shape)\n",
        "print(y_test_modified.shape)"
      ],
      "execution_count": 8,
      "outputs": [
        {
          "output_type": "stream",
          "text": [
            "(60000, 28, 28)\n",
            "(60000,)\n",
            "(60000, 28, 28, 1)\n",
            "(60000, 10)\n",
            "(10000, 28, 28, 1)\n",
            "(10000, 10)\n"
          ],
          "name": "stdout"
        }
      ]
    },
    {
      "metadata": {
        "id": "feenUpXdphb-",
        "colab_type": "code",
        "colab": {
          "base_uri": "https://localhost:8080/",
          "height": 141
        },
        "outputId": "f8c5c9b3-2a8f-4309-8fe4-85eb1b8a34d6"
      },
      "cell_type": "code",
      "source": [
        "model = Sequential()\n",
        "model.add(Conv2D(filters=32, kernel_size=(3, 3),activation='relu', padding='same',input_shape=(28,28,1)))\n",
        "model.add(Conv2D(32, (3, 3),activation='relu'))\n",
        "model.add(MaxPooling2D(pool_size=(2, 2)))\n",
        "model.add(Dropout(0.25))\n",
        "\n",
        "model.add(Conv2D(filters=32, kernel_size=(3, 3),activation='relu', padding='same'))\n",
        "model.add(Conv2D(32, (3, 3),activation='relu'))\n",
        "model.add(MaxPooling2D(pool_size=(2, 2)))\n",
        "model.add(Dropout(0.25))\n",
        "\n",
        "model.add(Flatten())\n",
        "model.add(Dense(512,activation='relu'))\n",
        "model.add(Dropout(0.5))\n",
        "model.add(Dense(10,activation='softmax'))"
      ],
      "execution_count": 4,
      "outputs": [
        {
          "output_type": "stream",
          "text": [
            "WARNING:tensorflow:From /usr/local/lib/python3.6/dist-packages/tensorflow/python/framework/op_def_library.py:263: colocate_with (from tensorflow.python.framework.ops) is deprecated and will be removed in a future version.\n",
            "Instructions for updating:\n",
            "Colocations handled automatically by placer.\n",
            "WARNING:tensorflow:From /usr/local/lib/python3.6/dist-packages/keras/backend/tensorflow_backend.py:3445: calling dropout (from tensorflow.python.ops.nn_ops) with keep_prob is deprecated and will be removed in a future version.\n",
            "Instructions for updating:\n",
            "Please use `rate` instead of `keep_prob`. Rate should be set to `rate = 1 - keep_prob`.\n"
          ],
          "name": "stdout"
        }
      ]
    },
    {
      "metadata": {
        "id": "3H_XSFYEphcC",
        "colab_type": "code",
        "colab": {}
      },
      "cell_type": "code",
      "source": [
        "model.compile(optimizer='adam',loss='categorical_crossentropy',metrics=['accuracy'])"
      ],
      "execution_count": 0,
      "outputs": []
    },
    {
      "metadata": {
        "id": "5l_0BPFlphcH",
        "colab_type": "code",
        "colab": {
          "base_uri": "https://localhost:8080/",
          "height": 452
        },
        "outputId": "75a335bb-b1f9-4044-9e82-dad5af7981a2"
      },
      "cell_type": "code",
      "source": [
        "model.fit(x_train_modified,y_train_modified, batch_size=None, epochs=10)"
      ],
      "execution_count": 6,
      "outputs": [
        {
          "output_type": "stream",
          "text": [
            "WARNING:tensorflow:From /usr/local/lib/python3.6/dist-packages/tensorflow/python/ops/math_ops.py:3066: to_int32 (from tensorflow.python.ops.math_ops) is deprecated and will be removed in a future version.\n",
            "Instructions for updating:\n",
            "Use tf.cast instead.\n",
            "Epoch 1/10\n",
            "60000/60000 [==============================] - 189s 3ms/step - loss: 1.0947 - acc: 0.8703\n",
            "Epoch 2/10\n",
            "60000/60000 [==============================] - 186s 3ms/step - loss: 0.1103 - acc: 0.9670\n",
            "Epoch 3/10\n",
            "60000/60000 [==============================] - 186s 3ms/step - loss: 0.0893 - acc: 0.9740\n",
            "Epoch 4/10\n",
            "60000/60000 [==============================] - 186s 3ms/step - loss: 0.0802 - acc: 0.9759\n",
            "Epoch 5/10\n",
            "60000/60000 [==============================] - 187s 3ms/step - loss: 0.0697 - acc: 0.9794\n",
            "Epoch 6/10\n",
            "60000/60000 [==============================] - 187s 3ms/step - loss: 0.0661 - acc: 0.9795\n",
            "Epoch 7/10\n",
            "60000/60000 [==============================] - 188s 3ms/step - loss: 0.0619 - acc: 0.9820\n",
            "Epoch 8/10\n",
            "60000/60000 [==============================] - 188s 3ms/step - loss: 0.0559 - acc: 0.9829\n",
            "Epoch 9/10\n",
            "60000/60000 [==============================] - 189s 3ms/step - loss: 0.0576 - acc: 0.9831\n",
            "Epoch 10/10\n",
            "60000/60000 [==============================] - 188s 3ms/step - loss: 0.0519 - acc: 0.9841\n"
          ],
          "name": "stdout"
        },
        {
          "output_type": "execute_result",
          "data": {
            "text/plain": [
              "<keras.callbacks.History at 0x7f2b4cba1ac8>"
            ]
          },
          "metadata": {
            "tags": []
          },
          "execution_count": 6
        }
      ]
    },
    {
      "metadata": {
        "id": "TE7QG2-fphcM",
        "colab_type": "code",
        "colab": {
          "base_uri": "https://localhost:8080/",
          "height": 52
        },
        "outputId": "70e7255d-c5ea-4d0f-984a-e5ddf8ca5c66"
      },
      "cell_type": "code",
      "source": [
        "model.evaluate(x_test_modified,y_test_modified)"
      ],
      "execution_count": 9,
      "outputs": [
        {
          "output_type": "stream",
          "text": [
            "10000/10000 [==============================] - 9s 859us/step\n"
          ],
          "name": "stdout"
        },
        {
          "output_type": "execute_result",
          "data": {
            "text/plain": [
              "[0.022393203029205323, 0.9931]"
            ]
          },
          "metadata": {
            "tags": []
          },
          "execution_count": 9
        }
      ]
    },
    {
      "metadata": {
        "id": "r0DITJuexOHS",
        "colab_type": "code",
        "colab": {}
      },
      "cell_type": "code",
      "source": [
        ""
      ],
      "execution_count": 0,
      "outputs": []
    }
  ]
}
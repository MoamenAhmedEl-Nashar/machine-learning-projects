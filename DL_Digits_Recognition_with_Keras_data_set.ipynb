{
  "nbformat": 4,
  "nbformat_minor": 0,
  "metadata": {
    "colab": {
      "name": "DL Digits Recognition with Keras data set.ipynb",
      "version": "0.3.2",
      "provenance": [],
      "collapsed_sections": [],
      "toc_visible": true,
      "include_colab_link": true
    },
    "kernelspec": {
      "display_name": "Python 3",
      "language": "python",
      "name": "python3"
    }
  },
  "cells": [
    {
      "cell_type": "markdown",
      "metadata": {
        "id": "view-in-github",
        "colab_type": "text"
      },
      "source": [
        "<a href=\"https://colab.research.google.com/github/MoamenAhmedEl-Nashar/machine-learning-projects/blob/master/DL_Digits_Recognition_with_Keras_data_set.ipynb\" target=\"_parent\"><img src=\"https://colab.research.google.com/assets/colab-badge.svg\" alt=\"Open In Colab\"/></a>"
      ]
    },
    {
      "metadata": {
        "id": "KmitmYfaphbt",
        "colab_type": "text"
      },
      "cell_type": "markdown",
      "source": [
        "# Digits Recognition with Keras data set"
      ]
    },
    {
      "metadata": {
        "id": "SO_MoAVOBGk4",
        "colab_type": "text"
      },
      "cell_type": "markdown",
      "source": [
        "# packages"
      ]
    },
    {
      "metadata": {
        "id": "Vum1Lfdgphbu",
        "colab_type": "code",
        "colab": {}
      },
      "cell_type": "code",
      "source": [
        "import pandas as pd\n",
        "import numpy as np\n",
        "import tensorflow as tf\n",
        "import matplotlib.pyplot as plt\n",
        "from keras import layers\n",
        "from keras.layers import Input, Dense, Activation, ZeroPadding2D, BatchNormalization, Flatten, Conv2D\n",
        "from keras.layers import AveragePooling2D, MaxPooling2D, Dropout, GlobalMaxPooling2D, GlobalAveragePooling2D\n",
        "from keras.models import Model,Sequential,load_model\n",
        "from keras.preprocessing import image\n",
        "from keras.utils import layer_utils,to_categorical\n",
        "from keras.utils.data_utils import get_file\n",
        "from keras.applications.imagenet_utils import preprocess_input\n",
        "from keras.datasets import mnist\n",
        "import keras.backend as K\n"
      ],
      "execution_count": 0,
      "outputs": []
    },
    {
      "metadata": {
        "id": "eWMQRG6EEnpQ",
        "colab_type": "code",
        "colab": {}
      },
      "cell_type": "code",
      "source": [
        "np.random.seed(1)\n",
        "plt.style.use('ggplot')\n",
        "K.set_image_data_format('channels_last')\n"
      ],
      "execution_count": 0,
      "outputs": []
    },
    {
      "metadata": {
        "id": "tpBe_QGoBWfN",
        "colab_type": "text"
      },
      "cell_type": "markdown",
      "source": [
        "# Data Sets"
      ]
    },
    {
      "metadata": {
        "id": "hz28LVKMphby",
        "colab_type": "code",
        "colab": {}
      },
      "cell_type": "code",
      "source": [
        "(x_train, y_train),(x_test, y_test) = mnist.load_data()"
      ],
      "execution_count": 0,
      "outputs": []
    },
    {
      "metadata": {
        "id": "FyJlIY3mphb5",
        "colab_type": "code",
        "outputId": "5366a51a-df05-4d61-aed5-32358ca37119",
        "colab": {
          "base_uri": "https://localhost:8080/",
          "height": 121
        }
      },
      "cell_type": "code",
      "source": [
        "print(x_train.shape)\n",
        "print(y_train.shape)\n",
        "x_train_modified=x_train.reshape(-1,28,28,1)\n",
        "y_train_modified=to_categorical(y_train)\n",
        "x_test_modified=x_test.reshape(-1,28,28,1)\n",
        "y_test_modified=to_categorical(y_test)\n",
        "print(x_train_modified.shape)\n",
        "print(y_train_modified.shape)\n",
        "print(x_test_modified.shape)\n",
        "print(y_test_modified.shape)"
      ],
      "execution_count": 12,
      "outputs": [
        {
          "output_type": "stream",
          "text": [
            "(60000, 28, 28)\n",
            "(60000,)\n",
            "(60000, 28, 28, 1)\n",
            "(60000, 10)\n",
            "(10000, 28, 28, 1)\n",
            "(10000, 10)\n"
          ],
          "name": "stdout"
        }
      ]
    },
    {
      "metadata": {
        "id": "b5J-e9TDBbmP",
        "colab_type": "text"
      },
      "cell_type": "markdown",
      "source": [
        "# building model"
      ]
    },
    {
      "metadata": {
        "id": "feenUpXdphb-",
        "colab_type": "code",
        "colab": {}
      },
      "cell_type": "code",
      "source": [
        "model = Sequential()\n",
        "model.add(Conv2D(filters=32, kernel_size=(3, 3),activation='relu', padding='same',input_shape=(28,28,1)))\n",
        "model.add(Conv2D(32, (3, 3),activation='relu'))\n",
        "model.add(MaxPooling2D(pool_size=(2, 2)))\n",
        "model.add(Dropout(0.25))\n",
        "\n",
        "model.add(Conv2D(filters=32, kernel_size=(3, 3),activation='relu', padding='same'))\n",
        "model.add(Conv2D(32, (3, 3),activation='relu'))\n",
        "model.add(MaxPooling2D(pool_size=(2, 2)))\n",
        "model.add(Dropout(0.25))\n",
        "\n",
        "model.add(Flatten())\n",
        "model.add(Dense(512,activation='relu'))\n",
        "model.add(Dropout(0.5))\n",
        "model.add(Dense(10,activation='softmax'))"
      ],
      "execution_count": 0,
      "outputs": []
    },
    {
      "metadata": {
        "id": "3H_XSFYEphcC",
        "colab_type": "code",
        "colab": {}
      },
      "cell_type": "code",
      "source": [
        "model.compile(optimizer='adam',loss='categorical_crossentropy',metrics=['accuracy'])"
      ],
      "execution_count": 0,
      "outputs": []
    },
    {
      "metadata": {
        "id": "OnMIO3zHBftq",
        "colab_type": "text"
      },
      "cell_type": "markdown",
      "source": [
        "# Training"
      ]
    },
    {
      "metadata": {
        "id": "5l_0BPFlphcH",
        "colab_type": "code",
        "outputId": "d979ee6d-9372-4c8d-e86d-3d44700e51e5",
        "colab": {
          "base_uri": "https://localhost:8080/",
          "height": 380
        }
      },
      "cell_type": "code",
      "source": [
        "model.fit(x_train_modified,y_train_modified, batch_size=None, epochs=10)"
      ],
      "execution_count": 15,
      "outputs": [
        {
          "output_type": "stream",
          "text": [
            "Epoch 1/10\n",
            "60000/60000 [==============================] - 194s 3ms/step - loss: 2.2302 - acc: 0.8092\n",
            "Epoch 2/10\n",
            "60000/60000 [==============================] - 194s 3ms/step - loss: 0.1128 - acc: 0.9656\n",
            "Epoch 3/10\n",
            "60000/60000 [==============================] - 194s 3ms/step - loss: 0.0873 - acc: 0.9735\n",
            "Epoch 4/10\n",
            "60000/60000 [==============================] - 194s 3ms/step - loss: 0.0774 - acc: 0.9771\n",
            "Epoch 5/10\n",
            "60000/60000 [==============================] - 193s 3ms/step - loss: 0.0679 - acc: 0.9802\n",
            "Epoch 6/10\n",
            "60000/60000 [==============================] - 193s 3ms/step - loss: 0.0663 - acc: 0.9803\n",
            "Epoch 7/10\n",
            "60000/60000 [==============================] - 195s 3ms/step - loss: 0.0617 - acc: 0.9815\n",
            "Epoch 8/10\n",
            "60000/60000 [==============================] - 195s 3ms/step - loss: 0.0564 - acc: 0.9837\n",
            "Epoch 9/10\n",
            "60000/60000 [==============================] - 193s 3ms/step - loss: 0.0570 - acc: 0.9836\n",
            "Epoch 10/10\n",
            "60000/60000 [==============================] - 193s 3ms/step - loss: 0.0507 - acc: 0.9851\n"
          ],
          "name": "stdout"
        },
        {
          "output_type": "execute_result",
          "data": {
            "text/plain": [
              "<keras.callbacks.History at 0x7f244f19f400>"
            ]
          },
          "metadata": {
            "tags": []
          },
          "execution_count": 15
        }
      ]
    },
    {
      "metadata": {
        "id": "pyjVOpEiBi4m",
        "colab_type": "text"
      },
      "cell_type": "markdown",
      "source": [
        "# Testing"
      ]
    },
    {
      "metadata": {
        "id": "TE7QG2-fphcM",
        "colab_type": "code",
        "outputId": "ba1c4a01-9c19-4ea9-f529-ce72f48fd8e9",
        "colab": {
          "base_uri": "https://localhost:8080/",
          "height": 52
        }
      },
      "cell_type": "code",
      "source": [
        "model.evaluate(x_test_modified,y_test_modified)"
      ],
      "execution_count": 16,
      "outputs": [
        {
          "output_type": "stream",
          "text": [
            "10000/10000 [==============================] - 9s 874us/step\n"
          ],
          "name": "stdout"
        },
        {
          "output_type": "execute_result",
          "data": {
            "text/plain": [
              "[0.024776170418947186, 0.9921]"
            ]
          },
          "metadata": {
            "tags": []
          },
          "execution_count": 16
        }
      ]
    },
    {
      "metadata": {
        "id": "HYbFYTPMXnna",
        "colab_type": "code",
        "colab": {
          "base_uri": "https://localhost:8080/",
          "height": 365
        },
        "outputId": "57d8fa7a-d1af-49b7-d6e5-48b1f9149376"
      },
      "cell_type": "code",
      "source": [
        "plt.imshow(x_test_modified[1,:,:,0],cmap='binary')"
      ],
      "execution_count": 38,
      "outputs": [
        {
          "output_type": "execute_result",
          "data": {
            "text/plain": [
              "<matplotlib.image.AxesImage at 0x7f243ec45be0>"
            ]
          },
          "metadata": {
            "tags": []
          },
          "execution_count": 38
        },
        {
          "output_type": "display_data",
          "data": {
            "image/png": "[encoded data removed]",
            "text/plain": [
              "<Figure size 576x396 with 1 Axes>"
            ]
          },
          "metadata": {
            "tags": []
          }
        }
      ]
    },
    {
      "metadata": {
        "id": "Yh9imAHfYFey",
        "colab_type": "code",
        "colab": {
          "base_uri": "https://localhost:8080/",
          "height": 34
        },
        "outputId": "2605cef0-fad6-4b04-d3c0-fe4225a94a02"
      },
      "cell_type": "code",
      "source": [
        "input_image=x_test_modified[1,:,:,:].reshape(1,28,28,1)\n",
        "prediction=model.predict_classes(input_image)\n",
        "print(prediction)"
      ],
      "execution_count": 36,
      "outputs": [
        {
          "output_type": "stream",
          "text": [
            "[2]\n"
          ],
          "name": "stdout"
        }
      ]
    },
    {
      "metadata": {
        "id": "0szLYlaJBl7I",
        "colab_type": "text"
      },
      "cell_type": "markdown",
      "source": [
        "# Saving model"
      ]
    },
    {
      "metadata": {
        "id": "r0DITJuexOHS",
        "colab_type": "code",
        "colab": {}
      },
      "cell_type": "code",
      "source": [
        "model.save('model_digits_CNN_file.h5')"
      ],
      "execution_count": 0,
      "outputs": []
    },
    {
      "metadata": {
        "id": "NBcF6OLkPeW4",
        "colab_type": "code",
        "colab": {}
      },
      "cell_type": "code",
      "source": [
        ""
      ],
      "execution_count": 0,
      "outputs": []
    }
  ]
}
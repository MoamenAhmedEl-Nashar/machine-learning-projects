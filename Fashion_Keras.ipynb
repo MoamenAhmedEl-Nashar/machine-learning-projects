{
  "nbformat": 4,
  "nbformat_minor": 0,
  "metadata": {
    "colab": {
      "name": "Fashion_Keras.ipynb",
      "provenance": [],
      "collapsed_sections": [],
      "include_colab_link": true
    },
    "kernelspec": {
      "name": "python3",
      "display_name": "Python 3"
    }
  },
  "cells": [
    {
      "cell_type": "markdown",
      "metadata": {
        "id": "view-in-github",
        "colab_type": "text"
      },
      "source": [
        "<a href=\"https://colab.research.google.com/github/MoamenAhmedEl-Nashar/machine-learning-projects/blob/master/Fashion_Keras.ipynb\" target=\"_parent\"><img src=\"https://colab.research.google.com/assets/colab-badge.svg\" alt=\"Open In Colab\"/></a>"
      ]
    },
    {
      "cell_type": "markdown",
      "metadata": {
        "id": "eSoIvuV7ZzDr",
        "colab_type": "text"
      },
      "source": [
        "\n",
        "# Clothes classification with Keras \n",
        "\n"
      ]
    },
    {
      "cell_type": "markdown",
      "metadata": {
        "id": "IJUDnnl5aLwN",
        "colab_type": "text"
      },
      "source": [
        "**Similar to the MNIST digit dataset, the Fashion MNIST dataset includes:**\n",
        "\n",
        "- 60,000 training examples\n",
        "- 10,000 testing examples\n",
        "- 10 classes\n",
        "- 28×28 grayscale/single channel images\n",
        "\n",
        "**The ten fashion class labels include:**\n",
        "\n",
        "- T-shirt/top\n",
        "- Trouser/pants\n",
        "- Pullover shirt\n",
        "- Dress\n",
        "- Coat\n",
        "- Sandal\n",
        "- Shirt\n",
        "- Sneaker\n",
        "- Bag\n",
        "- Ankle boot"
      ]
    },
    {
      "cell_type": "markdown",
      "metadata": {
        "id": "p0bORodjaocY",
        "colab_type": "text"
      },
      "source": [
        "# Data Loading"
      ]
    },
    {
      "cell_type": "code",
      "metadata": {
        "id": "xCaDWjOsnLcY",
        "colab_type": "code",
        "outputId": "c98d9844-4784-460c-8c68-bd375284fa06",
        "colab": {
          "base_uri": "https://localhost:8080/",
          "height": 33
        }
      },
      "source": [
        "import keras"
      ],
      "execution_count": 0,
      "outputs": [
        {
          "output_type": "stream",
          "text": [
            "Using TensorFlow backend.\n"
          ],
          "name": "stderr"
        }
      ]
    },
    {
      "cell_type": "code",
      "metadata": {
        "id": "T7_hAB7PZpDg",
        "colab_type": "code",
        "colab": {}
      },
      "source": [
        "from keras.datasets import fashion_mnist"
      ],
      "execution_count": 0,
      "outputs": []
    },
    {
      "cell_type": "code",
      "metadata": {
        "id": "FvNPNes4atrl",
        "colab_type": "code",
        "colab": {}
      },
      "source": [
        "(x_train, y_train), (x_test, y_test) = fashion_mnist.load_data()"
      ],
      "execution_count": 0,
      "outputs": []
    },
    {
      "cell_type": "code",
      "metadata": {
        "id": "joyLng99bMEB",
        "colab_type": "code",
        "outputId": "72422b72-f0bc-4cae-81e9-55eb0ba898e5",
        "colab": {
          "base_uri": "https://localhost:8080/",
          "height": 33
        }
      },
      "source": [
        "print(type(x_train), x_train.shape)"
      ],
      "execution_count": 0,
      "outputs": [
        {
          "output_type": "stream",
          "text": [
            "<class 'numpy.ndarray'> (60000, 28, 28)\n"
          ],
          "name": "stdout"
        }
      ]
    },
    {
      "cell_type": "code",
      "metadata": {
        "id": "oAgEpUJ6c550",
        "colab_type": "code",
        "outputId": "03af808e-c18a-4661-d985-7e66c54f580c",
        "colab": {
          "base_uri": "https://localhost:8080/",
          "height": 33
        }
      },
      "source": [
        "print(type(y_train), y_train.shape)"
      ],
      "execution_count": 0,
      "outputs": [
        {
          "output_type": "stream",
          "text": [
            "<class 'numpy.ndarray'> (60000,)\n"
          ],
          "name": "stdout"
        }
      ]
    },
    {
      "cell_type": "code",
      "metadata": {
        "id": "_hK6jyRGbSdG",
        "colab_type": "code",
        "colab": {}
      },
      "source": [
        "from matplotlib import pyplot as plt"
      ],
      "execution_count": 0,
      "outputs": []
    },
    {
      "cell_type": "code",
      "metadata": {
        "id": "IpPlMgtGbpi2",
        "colab_type": "code",
        "outputId": "e67dec68-a79f-4bf4-da47-739ca5845aae",
        "colab": {
          "base_uri": "https://localhost:8080/",
          "height": 286
        }
      },
      "source": [
        "plt.imshow(x_train[0])"
      ],
      "execution_count": 0,
      "outputs": [
        {
          "output_type": "execute_result",
          "data": {
            "text/plain": [
              "<matplotlib.image.AxesImage at 0x7f682892e470>"
            ]
          },
          "metadata": {
            "tags": []
          },
          "execution_count": 7
        },
        {
          "output_type": "display_data",
          "data": {
            "image/png": "[encoded data removed]",
            "text/plain": [
              "<Figure size 432x288 with 1 Axes>"
            ]
          },
          "metadata": {
            "tags": []
          }
        }
      ]
    },
    {
      "cell_type": "code",
      "metadata": {
        "id": "7b2ARHi_c-b_",
        "colab_type": "code",
        "outputId": "bc993edf-de24-4cde-c19f-4cac30bfcd85",
        "colab": {
          "base_uri": "https://localhost:8080/",
          "height": 33
        }
      },
      "source": [
        "print(y_train[0])"
      ],
      "execution_count": 0,
      "outputs": [
        {
          "output_type": "stream",
          "text": [
            "9\n"
          ],
          "name": "stdout"
        }
      ]
    },
    {
      "cell_type": "markdown",
      "metadata": {
        "id": "49yXmhaHkE2p",
        "colab_type": "text"
      },
      "source": [
        "# Data Preprocessing"
      ]
    },
    {
      "cell_type": "code",
      "metadata": {
        "id": "7DEUm65DkafS",
        "colab_type": "code",
        "colab": {}
      },
      "source": [
        "from keras.utils import to_categorical"
      ],
      "execution_count": 0,
      "outputs": []
    },
    {
      "cell_type": "code",
      "metadata": {
        "id": "T0qqNrIbkH-1",
        "colab_type": "code",
        "colab": {}
      },
      "source": [
        "# Convert labels to categorical one-hot encoding\n",
        "one_hot_y_train = to_categorical(y_train, num_classes=10)\n",
        "one_hot_y_test = to_categorical(y_test, num_classes=10)"
      ],
      "execution_count": 0,
      "outputs": []
    },
    {
      "cell_type": "code",
      "metadata": {
        "id": "6Zka3oZEkpdY",
        "colab_type": "code",
        "outputId": "6f154642-92ed-460c-ceba-edf1965469e1",
        "colab": {
          "base_uri": "https://localhost:8080/",
          "height": 50
        }
      },
      "source": [
        "print(y_test[0])\n",
        "print(one_hot_y_test[0])"
      ],
      "execution_count": 0,
      "outputs": [
        {
          "output_type": "stream",
          "text": [
            "9\n",
            "[0. 0. 0. 0. 0. 0. 0. 0. 0. 1.]\n"
          ],
          "name": "stdout"
        }
      ]
    },
    {
      "cell_type": "markdown",
      "metadata": {
        "id": "d0B6iHbzb4nH",
        "colab_type": "text"
      },
      "source": [
        "# Data Normalization"
      ]
    },
    {
      "cell_type": "markdown",
      "metadata": {
        "id": "KIAWwGYEcIIo",
        "colab_type": "text"
      },
      "source": [
        "**keras.utils.normalize(x, axis=-1, order=2)**\n",
        "Normalizes a Numpy array.\n",
        "\n",
        "**Arguments**\n",
        "\n",
        "- **x**: Numpy array to normalize.\n",
        "- **axis**: axis along which to normalize.\n",
        "- **order**: Normalization order (e.g. 2 for L2 norm).\n",
        "\n",
        "**Returns**\n",
        "\n",
        " A normalized copy of the array."
      ]
    },
    {
      "cell_type": "code",
      "metadata": {
        "id": "_Q_HukU3btfU",
        "colab_type": "code",
        "colab": {}
      },
      "source": [
        "from keras.utils import normalize"
      ],
      "execution_count": 0,
      "outputs": []
    },
    {
      "cell_type": "code",
      "metadata": {
        "id": "--J9mwmyckGn",
        "colab_type": "code",
        "colab": {}
      },
      "source": [
        "x_train_norm = normalize(x_train, axis=-1, order=2)"
      ],
      "execution_count": 0,
      "outputs": []
    },
    {
      "cell_type": "code",
      "metadata": {
        "id": "f5VB2480cv-k",
        "colab_type": "code",
        "colab": {}
      },
      "source": [
        "x_test_norm = normalize(x_test, axis=-1, order=2)"
      ],
      "execution_count": 0,
      "outputs": []
    },
    {
      "cell_type": "markdown",
      "metadata": {
        "id": "UxlE3owmdGxt",
        "colab_type": "text"
      },
      "source": [
        "# Build NN Model"
      ]
    },
    {
      "cell_type": "code",
      "metadata": {
        "id": "0c0X2NX0dEwB",
        "colab_type": "code",
        "colab": {}
      },
      "source": [
        "from keras.models import Sequential\n",
        "from keras.layers import Dense, Activation, Flatten"
      ],
      "execution_count": 0,
      "outputs": []
    },
    {
      "cell_type": "code",
      "metadata": {
        "id": "-7vcuoy4dl70",
        "colab_type": "code",
        "outputId": "615bf5b4-d15d-4a22-b5a2-5d1ee9325b42",
        "colab": {
          "base_uri": "https://localhost:8080/",
          "height": 137
        }
      },
      "source": [
        "model = Sequential([\n",
        "    Flatten(input_shape=(28, 28)), # image flatten\n",
        "    Dense(128),\n",
        "    Activation('relu'),\n",
        "    Dense(64),\n",
        "    Activation('relu'),\n",
        "    Dense(10),\n",
        "    Activation('softmax')\n",
        "])"
      ],
      "execution_count": 0,
      "outputs": [
        {
          "output_type": "stream",
          "text": [
            "WARNING:tensorflow:From /usr/local/lib/python3.6/dist-packages/keras/backend/tensorflow_backend.py:66: The name tf.get_default_graph is deprecated. Please use tf.compat.v1.get_default_graph instead.\n",
            "\n",
            "WARNING:tensorflow:From /usr/local/lib/python3.6/dist-packages/keras/backend/tensorflow_backend.py:541: The name tf.placeholder is deprecated. Please use tf.compat.v1.placeholder instead.\n",
            "\n",
            "WARNING:tensorflow:From /usr/local/lib/python3.6/dist-packages/keras/backend/tensorflow_backend.py:4432: The name tf.random_uniform is deprecated. Please use tf.random.uniform instead.\n",
            "\n"
          ],
          "name": "stdout"
        }
      ]
    },
    {
      "cell_type": "code",
      "metadata": {
        "id": "aqrk7acLeLNe",
        "colab_type": "code",
        "outputId": "252f4cd1-a762-405a-ce52-6390bb0cdc9e",
        "colab": {
          "base_uri": "https://localhost:8080/",
          "height": 401
        }
      },
      "source": [
        "print(model.summary())"
      ],
      "execution_count": 0,
      "outputs": [
        {
          "output_type": "stream",
          "text": [
            "Model: \"sequential_1\"\n",
            "_________________________________________________________________\n",
            "Layer (type)                 Output Shape              Param #   \n",
            "=================================================================\n",
            "flatten_1 (Flatten)          (None, 784)               0         \n",
            "_________________________________________________________________\n",
            "dense_1 (Dense)              (None, 128)               100480    \n",
            "_________________________________________________________________\n",
            "activation_1 (Activation)    (None, 128)               0         \n",
            "_________________________________________________________________\n",
            "dense_2 (Dense)              (None, 64)                8256      \n",
            "_________________________________________________________________\n",
            "activation_2 (Activation)    (None, 64)                0         \n",
            "_________________________________________________________________\n",
            "dense_3 (Dense)              (None, 10)                650       \n",
            "_________________________________________________________________\n",
            "activation_3 (Activation)    (None, 10)                0         \n",
            "=================================================================\n",
            "Total params: 109,386\n",
            "Trainable params: 109,386\n",
            "Non-trainable params: 0\n",
            "_________________________________________________________________\n",
            "None\n"
          ],
          "name": "stdout"
        }
      ]
    },
    {
      "cell_type": "markdown",
      "metadata": {
        "id": "rqEKIOPIf3UF",
        "colab_type": "text"
      },
      "source": [
        "# Model Training"
      ]
    },
    {
      "cell_type": "code",
      "metadata": {
        "id": "GFL7MPb9ePyd",
        "colab_type": "code",
        "outputId": "e7677417-08e5-430b-ef31-2e0fb780460a",
        "colab": {
          "base_uri": "https://localhost:8080/",
          "height": 104
        }
      },
      "source": [
        "# For a multi-class classification problem\n",
        "model.compile(optimizer='rmsprop',\n",
        "              loss='categorical_crossentropy',\n",
        "              metrics=['accuracy'])"
      ],
      "execution_count": 0,
      "outputs": [
        {
          "output_type": "stream",
          "text": [
            "WARNING:tensorflow:From /usr/local/lib/python3.6/dist-packages/keras/optimizers.py:793: The name tf.train.Optimizer is deprecated. Please use tf.compat.v1.train.Optimizer instead.\n",
            "\n",
            "WARNING:tensorflow:From /usr/local/lib/python3.6/dist-packages/keras/backend/tensorflow_backend.py:3576: The name tf.log is deprecated. Please use tf.math.log instead.\n",
            "\n"
          ],
          "name": "stdout"
        }
      ]
    },
    {
      "cell_type": "code",
      "metadata": {
        "id": "0zjs9Mojjz1E",
        "colab_type": "code",
        "outputId": "1c0ec776-b7ed-4844-b21d-5b73eda0fea8",
        "colab": {
          "base_uri": "https://localhost:8080/",
          "height": 1000
        }
      },
      "source": [
        "# Train the model, iterating on the data in batches of 32 samples\n",
        "model.fit(x_train_norm, one_hot_y_train, epochs=30, batch_size=64)"
      ],
      "execution_count": 0,
      "outputs": [
        {
          "output_type": "stream",
          "text": [
            "WARNING:tensorflow:From /usr/local/lib/python3.6/dist-packages/tensorflow/python/ops/math_grad.py:1250: add_dispatch_support.<locals>.wrapper (from tensorflow.python.ops.array_ops) is deprecated and will be removed in a future version.\n",
            "Instructions for updating:\n",
            "Use tf.where in 2.0, which has the same broadcast rule as np.where\n",
            "WARNING:tensorflow:From /usr/local/lib/python3.6/dist-packages/keras/backend/tensorflow_backend.py:1033: The name tf.assign_add is deprecated. Please use tf.compat.v1.assign_add instead.\n",
            "\n",
            "Epoch 1/30\n",
            "60000/60000 [==============================] - 4s 62us/step - loss: 0.5164 - acc: 0.8128\n",
            "Epoch 2/30\n",
            "60000/60000 [==============================] - 4s 66us/step - loss: 0.3670 - acc: 0.8650\n",
            "Epoch 3/30\n",
            "60000/60000 [==============================] - 4s 65us/step - loss: 0.3301 - acc: 0.8787\n",
            "Epoch 4/30\n",
            "60000/60000 [==============================] - 4s 62us/step - loss: 0.3071 - acc: 0.8867\n",
            "Epoch 5/30\n",
            "60000/60000 [==============================] - 4s 64us/step - loss: 0.2921 - acc: 0.8911\n",
            "Epoch 6/30\n",
            "60000/60000 [==============================] - 4s 64us/step - loss: 0.2784 - acc: 0.8972\n",
            "Epoch 7/30\n",
            "60000/60000 [==============================] - 4s 64us/step - loss: 0.2653 - acc: 0.9024\n",
            "Epoch 8/30\n",
            "60000/60000 [==============================] - 4s 63us/step - loss: 0.2537 - acc: 0.9055\n",
            "Epoch 9/30\n",
            "60000/60000 [==============================] - 4s 64us/step - loss: 0.2476 - acc: 0.9071\n",
            "Epoch 10/30\n",
            "60000/60000 [==============================] - 4s 62us/step - loss: 0.2392 - acc: 0.9111\n",
            "Epoch 11/30\n",
            "60000/60000 [==============================] - 4s 61us/step - loss: 0.2325 - acc: 0.9124\n",
            "Epoch 12/30\n",
            "60000/60000 [==============================] - 4s 60us/step - loss: 0.2263 - acc: 0.9155\n",
            "Epoch 13/30\n",
            "60000/60000 [==============================] - 4s 59us/step - loss: 0.2192 - acc: 0.9180\n",
            "Epoch 14/30\n",
            "60000/60000 [==============================] - 4s 59us/step - loss: 0.2140 - acc: 0.9199\n",
            "Epoch 15/30\n",
            "60000/60000 [==============================] - 4s 62us/step - loss: 0.2091 - acc: 0.9218\n",
            "Epoch 16/30\n",
            "60000/60000 [==============================] - 4s 61us/step - loss: 0.2040 - acc: 0.9244\n",
            "Epoch 17/30\n",
            "60000/60000 [==============================] - 4s 62us/step - loss: 0.2008 - acc: 0.9245\n",
            "Epoch 18/30\n",
            "60000/60000 [==============================] - 4s 62us/step - loss: 0.1960 - acc: 0.9267\n",
            "Epoch 19/30\n",
            "60000/60000 [==============================] - 4s 60us/step - loss: 0.1917 - acc: 0.9285\n",
            "Epoch 20/30\n",
            "60000/60000 [==============================] - 4s 61us/step - loss: 0.1879 - acc: 0.9304\n",
            "Epoch 21/30\n",
            "60000/60000 [==============================] - 4s 61us/step - loss: 0.1859 - acc: 0.9314\n",
            "Epoch 22/30\n",
            "60000/60000 [==============================] - 4s 60us/step - loss: 0.1831 - acc: 0.9326\n",
            "Epoch 23/30\n",
            "60000/60000 [==============================] - 4s 59us/step - loss: 0.1783 - acc: 0.9342\n",
            "Epoch 24/30\n",
            "60000/60000 [==============================] - 4s 63us/step - loss: 0.1749 - acc: 0.9352\n",
            "Epoch 25/30\n",
            "60000/60000 [==============================] - 4s 62us/step - loss: 0.1708 - acc: 0.9367\n",
            "Epoch 26/30\n",
            "60000/60000 [==============================] - 4s 61us/step - loss: 0.1713 - acc: 0.9370\n",
            "Epoch 27/30\n",
            "60000/60000 [==============================] - 4s 62us/step - loss: 0.1675 - acc: 0.9382\n",
            "Epoch 28/30\n",
            "60000/60000 [==============================] - 4s 62us/step - loss: 0.1635 - acc: 0.9402\n",
            "Epoch 29/30\n",
            "60000/60000 [==============================] - 4s 63us/step - loss: 0.1628 - acc: 0.9404\n",
            "Epoch 30/30\n",
            "60000/60000 [==============================] - 4s 63us/step - loss: 0.1612 - acc: 0.9412\n"
          ],
          "name": "stdout"
        },
        {
          "output_type": "execute_result",
          "data": {
            "text/plain": [
              "<keras.callbacks.History at 0x7f683ee90748>"
            ]
          },
          "metadata": {
            "tags": []
          },
          "execution_count": 19
        }
      ]
    },
    {
      "cell_type": "markdown",
      "metadata": {
        "id": "8Bq9K29glKHX",
        "colab_type": "text"
      },
      "source": [
        "# Model Testing"
      ]
    },
    {
      "cell_type": "code",
      "metadata": {
        "id": "lRuvDRWklMUc",
        "colab_type": "code",
        "outputId": "0da75e82-17ef-400b-beef-8dc6dc1905dd",
        "colab": {
          "base_uri": "https://localhost:8080/",
          "height": 50
        }
      },
      "source": [
        "model.evaluate(x_test_norm, one_hot_y_test, batch_size=64)"
      ],
      "execution_count": 0,
      "outputs": [
        {
          "output_type": "stream",
          "text": [
            "10000/10000 [==============================] - 0s 23us/step\n"
          ],
          "name": "stdout"
        },
        {
          "output_type": "execute_result",
          "data": {
            "text/plain": [
              "[0.503162767291069, 0.8826]"
            ]
          },
          "metadata": {
            "tags": []
          },
          "execution_count": 20
        }
      ]
    },
    {
      "cell_type": "code",
      "metadata": {
        "id": "h1rzu73Jlfr9",
        "colab_type": "code",
        "colab": {}
      },
      "source": [
        ""
      ],
      "execution_count": 0,
      "outputs": []
    }
  ]
}